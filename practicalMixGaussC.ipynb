{
 "cells": [
  {
   "cell_type": "markdown",
   "metadata": {},
   "source": [
    "# practicalMixGaussC\n",
    "\n",
    "The goal of this part of the lab is to fit a mixture of gaussians model to some multi-dimensional data. To do this, we will first generate some data from a known mixture of gaussians model and fit our own mixture of gaussians model to the generated data. The parameters from our estimated mixture of gaussians model should roughly match those of the original known model. \n",
    "\n",
    "Note that you should not use multivariate_normal.pdf for calculating likelihood.\n",
    "\n",
    "You should use this template for your code and fill in the missing \n",
    "sections marked \"TO DO.\"\n",
    "\n"
   ]
  },
  {
   "cell_type": "code",
   "execution_count": 245,
   "metadata": {},
   "outputs": [],
   "source": [
    "import os \n",
    "import numpy as np\n",
    "import matplotlib.pyplot as plt\n",
    "import scipy.io as spio\n",
    "from scipy.stats import norm \n",
    "from scipy.stats import multivariate_normal\n",
    "import time\n",
    "import sys\n",
    "\n",
    "flt_min = sys.float_info.min\n",
    "\n",
    "%matplotlib notebook"
   ]
  },
  {
   "cell_type": "markdown",
   "metadata": {
    "collapsed": true
   },
   "source": [
    "## Construct Ground Truth Mixture of Gaussians Model and Plot Some Points\n",
    "\n",
    "Define some true parameters for our ground truth mixture of $k$ Gaussians model. We will represent the \n",
    "mixtures of Gaussians as a python dictionary. The mean field is a $d \\times k$ matrix and the cov field is a \n",
    "$d \\times d \\times k$ matrix."
   ]
  },
  {
   "cell_type": "code",
   "execution_count": 246,
   "metadata": {},
   "outputs": [],
   "source": [
    "mixGaussTrue = dict()\n",
    "mixGaussTrue['k'] = 3\n",
    "mixGaussTrue['d'] = 2\n",
    "mixGaussTrue['weight'] = np.array([0.1309, 0.3966, 0.4725])\n",
    "mixGaussTrue['mean'] = np.array([[ 4.0491 , 4.8597],[ 7.7578 , 1.6335],[ 11.9945, 8.9206]]).T\n",
    "mixGaussTrue['cov'] = np.reshape([0.5, 0.25], newshape=(1,1,2))\n",
    "mixGaussTrue['cov'] = np.zeros(shape=(mixGaussTrue['d'],mixGaussTrue['d'],mixGaussTrue['k']))\n",
    "mixGaussTrue['cov'][:,:,0] = np.array([[  4.2534, 0.4791], [0.4791, 0.3522]])\n",
    "mixGaussTrue['cov'][:,:,1] = np.array([[  0.9729, 0.8723],[  0.8723,  2.6317]])\n",
    "mixGaussTrue['cov'][:,:,2] = np.array([[  0.9886, -1.2244],[ -1.2244, 3.0187]])"
   ]
  },
  {
   "cell_type": "markdown",
   "metadata": {
    "collapsed": true
   },
   "source": [
    "**drawEMData2d**, **sampleFromDiscrete**, **getGaussian2SD**, and **drawGaussianOutline** are helper functions."
   ]
  },
  {
   "cell_type": "code",
   "execution_count": 247,
   "metadata": {
    "scrolled": true
   },
   "outputs": [],
   "source": [
    "def sampleFromDiscrete(probDist):     \n",
    "    \"\"\"\n",
    "    Draws a random sample from a discrete probability distribution using a rejection sampling method.  \n",
    "    \n",
    "    Keyword arguments:\n",
    "    probDist -- discrete probability ditrubtion to sample from.\n",
    "    \n",
    "    Returns: \n",
    "    r -- sampled point.\n",
    "    \"\"\"\n",
    "    nIndex = len(probDist)                                                                 \n",
    "    while True:                                                                            \n",
    "        #choose random index                                                               \n",
    "        r=int(np.floor(np.random.uniform()*nIndex))                                        \n",
    "        #choose random height                                                              \n",
    "        randHeight = np.random.uniform()                                                   \n",
    "        #if height is less than probability value at this point in the                     \n",
    "        # histogram then select                                                            \n",
    "        if randHeight<probDist[r]:                                                         \n",
    "            break                                                                          \n",
    "    return r                                                                               "
   ]
  },
  {
   "cell_type": "code",
   "execution_count": 248,
   "metadata": {},
   "outputs": [],
   "source": [
    "def getGaussian2SD(m,s,angle1):\n",
    "    \"\"\"\n",
    "    Find position of in xy co-ordinates at 2SD out for a certain angle.\n",
    "    \"\"\"\n",
    "  \n",
    "    if s.shape[1] == 1:\n",
    "        s = diag(s)\n",
    "\n",
    "    vec = np.array([np.cos(angle1), np.sin(angle1)])\n",
    "    \n",
    "    factor = 4/(vec@np.linalg.inv(s)@vec.T)\n",
    "    \n",
    "    x = np.cos(angle1) * np.sqrt(factor)\n",
    "    y = np.sin(angle1) * np.sqrt(factor)\n",
    "\n",
    "    x = x + m[0]\n",
    "    y = y + m[1]\n",
    "                \n",
    "    return x,y"
   ]
  },
  {
   "cell_type": "code",
   "execution_count": 249,
   "metadata": {},
   "outputs": [],
   "source": [
    "def drawGaussianOutline(m,s,w):\n",
    "    \"\"\"\n",
    "    Draw 2DGaussian\n",
    "    \"\"\"\n",
    "    angleInc = 0.1    \n",
    "    c = (0.9*(1-w), 0, 0)\n",
    "\n",
    "    for cAngle in np.arange(0,2*np.pi,angleInc):         \n",
    "        angle1 = cAngle\n",
    "        angle2 = cAngle+angleInc\n",
    "        x1, y1 = getGaussian2SD(m,s,angle1)\n",
    "        x2, y2 = getGaussian2SD(m,s,angle2)\n",
    "        plt.plot([x1, x2],[y1, y2],'-',linewidth=2,color=c)                 \n",
    "    return"
   ]
  },
  {
   "cell_type": "code",
   "execution_count": 250,
   "metadata": {},
   "outputs": [],
   "source": [
    "def drawEMData2d(data,mixGauss):\n",
    "    \"\"\"\n",
    "    Plot the data plot the mixtures of Gaussian model, mixGauss, on top of it.\n",
    "    \n",
    "    Keyword arguments:\n",
    "    data -- d by n matrix of data points.\n",
    "    mixGauss -- dict with mixture of gaussian information.\n",
    "    \n",
    "    \"\"\"\n",
    "    #set(gcf,'Color',[1 1 1])\n",
    "    plt.cla() \n",
    "    plt.plot(data[0,:],data[1,:],'k.')\n",
    "\n",
    "    for cGauss in range(mixGauss['k']):\n",
    "        drawGaussianOutline(mixGauss['mean'][:,cGauss],mixGauss['cov'][:,:,cGauss],mixGauss['weight'][cGauss])\n",
    "    \n",
    "    return     \n"
   ]
  },
  {
   "cell_type": "markdown",
   "metadata": {},
   "source": [
    "**TODO H HERE:**\n",
    "\n",
    "Complete the TO DO in this function before moving on."
   ]
  },
  {
   "cell_type": "code",
   "execution_count": 251,
   "metadata": {},
   "outputs": [],
   "source": [
    "def mixGaussGen(mixGauss, nData):                                                                              \n",
    "    \"\"\"\n",
    "    Generates data from a d-dimensional mixture of Gaussians model. \n",
    "    \n",
    "    Keyword arguments:\n",
    "    mixGauss -- dict containing the mixture of gaussians arguments.\n",
    "    nData -- number of data points to generate.\n",
    "    \n",
    "    Returns: \n",
    "    data -- d by nData, generated data points. \n",
    "    \n",
    "    \"\"\"\n",
    "    # create space for output data                                                                               \n",
    "    data = np.zeros(shape=(mixGauss['d'], nData))                                                                            \n",
    "    # for each data point                                                                                        \n",
    "    for cData in range(nData):                                                                                   \n",
    "        # randomly choose Gaussian according to probability distributions                                        \n",
    "        h = sampleFromDiscrete(mixGauss['weight'])\n",
    "        # draw a sample from the appropriate Gaussian distribution  \n",
    "        # first sample from the covariance matrix (google how to do this - it\n",
    "        # will involve the numpy function np.linalg.cholesky().  Then add the mean vector\n",
    "        # TO DO (h)- insert data generation code here              \n",
    "        covariance = mixGaussTrue['cov'].T[h]\n",
    "        mean = mixGaussTrue['mean'].T[h]\n",
    "        print('h, Covariance & Mean are: %f, %f and %f', h, covariance, mean)\n",
    "        print(np.shape(mixGaussTrue['cov']))\n",
    "\n",
    "        L = np.linalg.cholesky(covariance)\n",
    "        Z = np.random.normal(mean, covariance)\n",
    "        data[cData] = Z.dot(L) + mean\n",
    "\n",
    "    print(data)                                                             \n",
    "    return data"
   ]
  },
  {
   "cell_type": "markdown",
   "metadata": {},
   "source": [
    "With all the helper functions complete, we can now generate and plot some points from our model. The black points are the generated data points. The circles are what the gaussians look like."
   ]
  },
  {
   "cell_type": "code",
   "execution_count": 252,
   "metadata": {},
   "outputs": [
    {
     "name": "stdout",
     "output_type": "stream",
     "text": [
      "h, Covariance & Mean are: %f, %f and %f 2 [[ 0.9886 -1.2244]\n",
      " [-1.2244  3.0187]] [11.9945  8.9206]\n",
      "(2, 2, 3)\n"
     ]
    },
    {
     "ename": "ValueError",
     "evalue": "scale < 0",
     "output_type": "error",
     "traceback": [
      "\u001b[1;31m---------------------------------------------------------------------------\u001b[0m",
      "\u001b[1;31mValueError\u001b[0m                                Traceback (most recent call last)",
      "\u001b[1;32m<ipython-input-252-fcb0fabe58c4>\u001b[0m in \u001b[0;36m<module>\u001b[1;34m\u001b[0m\n\u001b[0;32m      4\u001b[0m \u001b[1;31m#generate data from the mixture of Gaussians\u001b[0m\u001b[1;33m\u001b[0m\u001b[1;33m\u001b[0m\u001b[1;33m\u001b[0m\u001b[0m\n\u001b[0;32m      5\u001b[0m \u001b[1;31m#make sure you've filled in the routine above.\u001b[0m\u001b[1;33m\u001b[0m\u001b[1;33m\u001b[0m\u001b[1;33m\u001b[0m\u001b[0m\n\u001b[1;32m----> 6\u001b[1;33m \u001b[0mdata\u001b[0m \u001b[1;33m=\u001b[0m \u001b[0mmixGaussGen\u001b[0m\u001b[1;33m(\u001b[0m\u001b[0mmixGaussTrue\u001b[0m\u001b[1;33m,\u001b[0m\u001b[0mnData\u001b[0m\u001b[1;33m)\u001b[0m\u001b[1;33m\u001b[0m\u001b[1;33m\u001b[0m\u001b[0m\n\u001b[0m\u001b[0;32m      7\u001b[0m \u001b[1;33m\u001b[0m\u001b[0m\n\u001b[0;32m      8\u001b[0m \u001b[1;31m#draw data, true Gaussians\u001b[0m\u001b[1;33m\u001b[0m\u001b[1;33m\u001b[0m\u001b[1;33m\u001b[0m\u001b[0m\n",
      "\u001b[1;32m<ipython-input-251-76e0ccb444d3>\u001b[0m in \u001b[0;36mmixGaussGen\u001b[1;34m(mixGauss, nData)\u001b[0m\n\u001b[0;32m     27\u001b[0m \u001b[1;33m\u001b[0m\u001b[0m\n\u001b[0;32m     28\u001b[0m         \u001b[0mL\u001b[0m \u001b[1;33m=\u001b[0m \u001b[0mnp\u001b[0m\u001b[1;33m.\u001b[0m\u001b[0mlinalg\u001b[0m\u001b[1;33m.\u001b[0m\u001b[0mcholesky\u001b[0m\u001b[1;33m(\u001b[0m\u001b[0mcovariance\u001b[0m\u001b[1;33m)\u001b[0m\u001b[1;33m\u001b[0m\u001b[1;33m\u001b[0m\u001b[0m\n\u001b[1;32m---> 29\u001b[1;33m         \u001b[0mZ\u001b[0m \u001b[1;33m=\u001b[0m \u001b[0mnp\u001b[0m\u001b[1;33m.\u001b[0m\u001b[0mrandom\u001b[0m\u001b[1;33m.\u001b[0m\u001b[0mnormal\u001b[0m\u001b[1;33m(\u001b[0m\u001b[0mmean\u001b[0m\u001b[1;33m,\u001b[0m \u001b[0mcovariance\u001b[0m\u001b[1;33m)\u001b[0m\u001b[1;33m\u001b[0m\u001b[1;33m\u001b[0m\u001b[0m\n\u001b[0m\u001b[0;32m     30\u001b[0m         \u001b[0mdata\u001b[0m\u001b[1;33m[\u001b[0m\u001b[0mcData\u001b[0m\u001b[1;33m]\u001b[0m \u001b[1;33m=\u001b[0m \u001b[0mZ\u001b[0m\u001b[1;33m.\u001b[0m\u001b[0mdot\u001b[0m\u001b[1;33m(\u001b[0m\u001b[0mL\u001b[0m\u001b[1;33m)\u001b[0m \u001b[1;33m+\u001b[0m \u001b[0mmean\u001b[0m\u001b[1;33m\u001b[0m\u001b[1;33m\u001b[0m\u001b[0m\n\u001b[0;32m     31\u001b[0m \u001b[1;33m\u001b[0m\u001b[0m\n",
      "\u001b[1;32mmtrand.pyx\u001b[0m in \u001b[0;36mnumpy.random.mtrand.RandomState.normal\u001b[1;34m()\u001b[0m\n",
      "\u001b[1;32m_common.pyx\u001b[0m in \u001b[0;36mnumpy.random._common.cont\u001b[1;34m()\u001b[0m\n",
      "\u001b[1;32m_common.pyx\u001b[0m in \u001b[0;36mnumpy.random._common.cont_broadcast_2\u001b[1;34m()\u001b[0m\n",
      "\u001b[1;32m_common.pyx\u001b[0m in \u001b[0;36mnumpy.random._common.check_array_constraint\u001b[1;34m()\u001b[0m\n",
      "\u001b[1;31mValueError\u001b[0m: scale < 0"
     ]
    }
   ],
   "source": [
    "#define number of samples to generate\n",
    "nData = 400;\n",
    "\n",
    "#generate data from the mixture of Gaussians\n",
    "#make sure you've filled in the routine above.\n",
    "data = mixGaussGen(mixGaussTrue,nData)\n",
    "\n",
    "#draw data, true Gaussians\n",
    "drawEMData2d(data,mixGaussTrue)"
   ]
  },
  {
   "cell_type": "markdown",
   "metadata": {
    "collapsed": true
   },
   "source": [
    "## Estimate MoG using the E-M Algorithm\n",
    "Here we want to use the E-M algorithm to fit a MoG model to our data points. \n",
    "\n",
    "**TODO I HERE:** \n",
    "\n",
    "Fill out the missing parts below. \n",
    "\n",
    "The log likelihood is taken since the raw likelihood value could be too small for our machine's percision."
   ]
  },
  {
   "cell_type": "code",
   "execution_count": null,
   "metadata": {},
   "outputs": [],
   "source": [
    "def getMixGaussLogLike(data, mixGaussEst): \n",
    "    \"\"\"\n",
    "    Calculate the log likelihood for the whole dataset under a mixture of Gaussians model.\n",
    "    \n",
    "    Keyword arguments:\n",
    "    data -- d by n matrix containing data points.\n",
    "    mixGaussEst -- dict containing the mixture of gaussians parameters.\n",
    "\n",
    "    Returns: \n",
    "    logLike -- scalar containing the log likelihood.\n",
    "    \n",
    "    \"\"\"\n",
    "    \n",
    "    data = np.atleast_2d(data)                                                                         \n",
    "    # find total number of data items                                                                  \n",
    "    nDims, nData = data.shape                                                                          \n",
    "    \n",
    "    # initialize log likelihoods                                                                       \n",
    "    logLike = 0;                                                                                       \n",
    "                                                                                                       \n",
    "    # run through each data item                                                                       \n",
    "    for cData in range(nData):                                                                         \n",
    "        thisData = data[:, cData]                                                                      \n",
    "        # TO DO (i)- calculate likelihood of this data point under mixture of                         \n",
    "        # Gaussians model. Replace this                                                                \n",
    "        like = 1 \n",
    "        \n",
    "        # add to total log like                                                                        \n",
    "        logLike = logLike + np.log(like)                                                               \n",
    "                                                                                                       \n",
    "    return  np.asscalar(logLike)                                                                       \n",
    "                                                                                                       "
   ]
  },
  {
   "cell_type": "markdown",
   "metadata": {
    "collapsed": true
   },
   "source": [
    "**TODO J HERE:** \n",
    "\n",
    "Fill out the missing parts below. "
   ]
  },
  {
   "cell_type": "code",
   "execution_count": null,
   "metadata": {},
   "outputs": [],
   "source": [
    "def fitMixGauss(data, k):\n",
    "    \"\"\"\n",
    "    Estimate a k MoG model that would fit the data. Incremently plots the outcome.\n",
    "               \n",
    "    \n",
    "    Keyword arguments:\n",
    "    data -- d by n matrix containing data points.\n",
    "    k -- scalar representing the number of gaussians to use in the MoG model.\n",
    "    \n",
    "    Returns: \n",
    "    mixGaussEst -- dict containing the estimated MoG parameters.\n",
    "    \n",
    "    \"\"\"\n",
    "    \n",
    "    #     MAIN E-M ROUTINE  \n",
    "    #     In the E-M algorithm, we calculate a complete posterior distribution over                                  \n",
    "    #     the (nData) hidden variables in the E-Step.  \n",
    "    #     In the M-Step, we update the parameters of the Gaussians (mean, cov, w).   \n",
    "    \n",
    "    nDims, nData = data.shape\n",
    "\n",
    "\n",
    "    postHidden = np.zeros(shape=(k, nData))\n",
    "\n",
    "    # we will initialize the values to random values\n",
    "    mixGaussEst = dict()\n",
    "    mixGaussEst['d'] = nDims\n",
    "    mixGaussEst['k'] = k\n",
    "    mixGaussEst['weight'] = (1 / k) * np.ones(shape=(k))\n",
    "    mixGaussEst['mean'] = 2 * np.random.randn(nDims, k)\n",
    "    mixGaussEst['cov'] = np.zeros(shape=(nDims, nDims, k))\n",
    "    for cGauss in range(k):\n",
    "        mixGaussEst['cov'][:, :, cGauss] = 2.5 + 1.5 * np.random.uniform() * np.eye(nDims)\n",
    "        \n",
    "\n",
    "    # calculate current likelihood\n",
    "    # TO DO (j) starts here - fill in this routine\n",
    "    logLike = getMixGaussLogLike(data, mixGaussEst)\n",
    "    print('Log Likelihood Iter 0 : {:4.3f}\\n'.format(logLike))\n",
    "\n",
    "    nIter = 30;\n",
    "\n",
    "    logLikeVec = np.zeros(shape=(2 * nIter))\n",
    "    boundVec = np.zeros(shape=(2 * nIter))\n",
    "\n",
    "    fig, ax = plt.subplots(1, 1)\n",
    "\n",
    "    for cIter in range(nIter):\n",
    "\n",
    "        # ===================== =====================\n",
    "        # Expectation step\n",
    "        # ===================== =====================\n",
    "\n",
    "        for cData in range(nData):\n",
    "            # TO DO : fill in column of 'hidden' - calculate posterior probability that\n",
    "            # this data point came from each of the Gaussians\n",
    "            # replace this:\n",
    "            \n",
    "            postHidden[:, cData] = 1/k\n",
    "            \n",
    "\n",
    "        # ===================== =====================\n",
    "        # Maximization Step\n",
    "        # ===================== =====================\n",
    "        # for each constituent Gaussian\n",
    "        for cGauss in range(k):\n",
    "            # TO DO :  Update weighting parameters mixGauss.weight based on the total\n",
    "            # posterior probability associated with each Gaussian. Replace this:\n",
    "            mixGaussEst['weight'][cGauss] = mixGaussEst['weight'][cGauss]\n",
    "            \n",
    "            \n",
    "            # TO DO :  Update mean parameters mixGauss.mean by weighted average\n",
    "            # where weights are given by posterior probability associated with\n",
    "            # Gaussian.  Replace this:\n",
    "            mixGaussEst['mean'][:,cGauss] = mixGaussEst['mean'][:,cGauss]\n",
    "            \n",
    "            \n",
    "            # TO DO :  Update covarance parameter based on weighted average of\n",
    "            # square distance from update mean, where weights are given by\n",
    "            # posterior probability associated with Gaussian\n",
    "            mixGaussEst['cov'][:,:,cGauss] = mixGaussEst['cov'][:,:,cGauss]\n",
    "            \n",
    "            \n",
    "            # draw the new solution\n",
    "        drawEMData2d(data, mixGaussEst)\n",
    "        time.sleep(0.7)\n",
    "        fig.canvas.draw()\n",
    "\n",
    "        # calculate the log likelihood\n",
    "        logLike = getMixGaussLogLike(data, mixGaussEst)\n",
    "        print('Log Likelihood After Iter {} : {:4.3f}\\n'.format(cIter, logLike))\n",
    "\n",
    "\n",
    "    return mixGaussEst"
   ]
  },
  {
   "cell_type": "markdown",
   "metadata": {},
   "source": [
    "### Time to put it all together!\n",
    "\n",
    "Make sure you've filled all the TO DOs above! "
   ]
  },
  {
   "cell_type": "code",
   "execution_count": null,
   "metadata": {},
   "outputs": [],
   "source": [
    "#define number of components to estimate\n",
    "nGaussEst = 3\n",
    "\n",
    "#fit mixture of Gaussians (Pretend someone handed you some data. Now what?)\n",
    "#TO DO fill in this routine (below)\n",
    "mixGaussEst = fitMixGauss(data,nGaussEst);"
   ]
  }
 ],
 "metadata": {
  "interpreter": {
   "hash": "08a8be6be2e8930bf7a7b9a2bbce9e9a00a049a7e1e11f1e3cdcb9b90ba40a1f"
  },
  "kernelspec": {
   "display_name": "Python 3.8.5 64-bit ('base': conda)",
   "name": "python3"
  },
  "language_info": {
   "codemirror_mode": {
    "name": "ipython",
    "version": 3
   },
   "file_extension": ".py",
   "mimetype": "text/x-python",
   "name": "python",
   "nbconvert_exporter": "python",
   "pygments_lexer": "ipython3",
   "version": "3.8.5"
  }
 },
 "nbformat": 4,
 "nbformat_minor": 2
}
